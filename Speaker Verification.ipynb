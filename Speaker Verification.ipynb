{
 "cells": [
  {
   "cell_type": "markdown",
   "id": "6abe8302",
   "metadata": {},
   "source": [
    "# Speaker Verification\n",
    "The task here is to determine whether two sentences belong to the same speaker or not."
   ]
  },
  {
   "cell_type": "code",
   "execution_count": null,
   "id": "b87fc303",
   "metadata": {},
   "outputs": [],
   "source": [
    "%%capture\n",
    "!pip install speechbrain\n",
    "!pip install transformers"
   ]
  },
  {
   "cell_type": "code",
   "execution_count": null,
   "id": "d4e3c7af",
   "metadata": {},
   "outputs": [],
   "source": [
    "import torchaudio\n",
    "import speechbrain as sb\n",
    "from speechbrain.dataio.dataio import read_audio\n",
    "from IPython.display import Audio\n",
    "from speechbrain.pretrained import SpeakerRecognition\n",
    "from speechbrain.pretrained import SepformerSeparation as separator"
   ]
  },
  {
   "cell_type": "code",
   "execution_count": null,
   "id": "4c212e4b",
   "metadata": {},
   "outputs": [],
   "source": [
    "verification = SpeakerRecognition.from_hparams(source=\"speechbrain/spkrec-ecapa-voxceleb\", savedir=\"pretrained_models/spkrec-ecapa-voxceleb\")\n",
    "score, prediction = verification.verify_files(\"speechbrain/spkrec-ecapa-voxceleb/example1.wav\", \"speechbrain/spkrec-ecapa-voxceleb/example2.flac\")"
   ]
  },
  {
   "cell_type": "code",
   "execution_count": null,
   "id": "e62a422b",
   "metadata": {},
   "outputs": [],
   "source": [
    "print(prediction, score)"
   ]
  },
  {
   "cell_type": "code",
   "execution_count": null,
   "id": "9c6d2b43",
   "metadata": {},
   "outputs": [],
   "source": [
    "signal = read_audio(\"example1.wav\").squeeze()\n",
    "Audio(signal, rate=16000)"
   ]
  },
  {
   "cell_type": "code",
   "execution_count": null,
   "id": "587d96d8",
   "metadata": {},
   "outputs": [],
   "source": [
    "signal = read_audio(\"example2.flac\").squeeze()\n",
    "Audio(signal, rate=16000)"
   ]
  },
  {
   "cell_type": "code",
   "execution_count": null,
   "id": "e0617c0b",
   "metadata": {},
   "outputs": [],
   "source": []
  }
 ],
 "metadata": {
  "kernelspec": {
   "display_name": "Python 3 (ipykernel)",
   "language": "python",
   "name": "python3"
  },
  "language_info": {
   "codemirror_mode": {
    "name": "ipython",
    "version": 3
   },
   "file_extension": ".py",
   "mimetype": "text/x-python",
   "name": "python",
   "nbconvert_exporter": "python",
   "pygments_lexer": "ipython3",
   "version": "3.9.12"
  }
 },
 "nbformat": 4,
 "nbformat_minor": 5
}
