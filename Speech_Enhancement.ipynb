{
 "cells": [
  {
   "cell_type": "markdown",
   "id": "eb911f5e",
   "metadata": {},
   "source": [
    "# Speech Enhancement \n",
    "#The goal of speech enhancement is to remove the noise that affects a recording. Speechbrain has several systems for speech enhancement. In the following, you can find an example processed by the SepFormer (the version trained to perform enhancement):"
   ]
  },
  {
   "cell_type": "code",
   "execution_count": null,
   "id": "dda62b34",
   "metadata": {},
   "outputs": [],
   "source": [
    "%%capture\n",
    "!pip install speechbrain\n",
    "!pip install transformers"
   ]
  },
  {
   "cell_type": "code",
   "execution_count": null,
   "id": "9a2e1122",
   "metadata": {},
   "outputs": [],
   "source": [
    "import torchaudio\n",
    "import speechbrain as sb\n",
    "from speechbrain.dataio.dataio import read_audio\n",
    "from IPython.display import Audio\n",
    "from speechbrain.pretrained import SepformerSeparation as separator"
   ]
  },
  {
   "cell_type": "code",
   "execution_count": null,
   "id": "411acb94",
   "metadata": {},
   "outputs": [],
   "source": [
    "model = separator.from_hparams(source=\"speechbrain/sepformer-whamr-enhancement\", savedir='pretrained_models/sepformer-whamr-enhancement')"
   ]
  },
  {
   "cell_type": "code",
   "execution_count": null,
   "id": "62ba3b02",
   "metadata": {},
   "outputs": [],
   "source": [
    "enhanced_speech = model.separate_file(path='speechbrain/sepformer-whamr-enhancement/example_whamr.wav') "
   ]
  },
  {
   "cell_type": "code",
   "execution_count": null,
   "id": "d44aa7bc",
   "metadata": {},
   "outputs": [],
   "source": [
    "signal = read_audio(\"example_whamr.wav\").squeeze()\n",
    "Audio(signal, rate=8000)"
   ]
  },
  {
   "cell_type": "code",
   "execution_count": null,
   "id": "ddcfa3c6",
   "metadata": {},
   "outputs": [],
   "source": [
    "Audio(enhanced_speech[:, :].detach().cpu().squeeze(), rate=8000)"
   ]
  },
  {
   "cell_type": "code",
   "execution_count": null,
   "id": "97b754d5",
   "metadata": {},
   "outputs": [],
   "source": []
  }
 ],
 "metadata": {
  "kernelspec": {
   "display_name": "Python 3 (ipykernel)",
   "language": "python",
   "name": "python3"
  },
  "language_info": {
   "codemirror_mode": {
    "name": "ipython",
    "version": 3
   },
   "file_extension": ".py",
   "mimetype": "text/x-python",
   "name": "python",
   "nbconvert_exporter": "python",
   "pygments_lexer": "ipython3",
   "version": "3.9.12"
  }
 },
 "nbformat": 4,
 "nbformat_minor": 5
}
