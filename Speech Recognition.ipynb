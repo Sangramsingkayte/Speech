{
 "cells": [
  {
   "cell_type": "markdown",
   "id": "2f5ab011",
   "metadata": {},
   "source": [
    "# Speech Recognition "
   ]
  },
  {
   "cell_type": "code",
   "execution_count": null,
   "id": "cde0704a",
   "metadata": {},
   "outputs": [],
   "source": [
    "%%capture\n",
    "!pip install speechbrain\n",
    "!pip install transformers"
   ]
  },
  {
   "cell_type": "code",
   "execution_count": null,
   "id": "0e3be9dd",
   "metadata": {},
   "outputs": [],
   "source": [
    "import torchaudio\n",
    "import speechbrain as sb\n",
    "from IPython.display import Audio\n",
    "from speechbrain.dataio.dataio import read_audio\n",
    "from speechbrain.pretrained import SpeakerRecognition\n",
    "from speechbrain.pretrained import EncoderDecoderASR\n",
    "from speechbrain.pretrained import SepformerSeparation as separator"
   ]
  },
  {
   "cell_type": "code",
   "execution_count": null,
   "id": "f3f472bb",
   "metadata": {},
   "outputs": [],
   "source": [
    "asr_model = EncoderDecoderASR.from_hparams(source=\"speechbrain/asr-crdnn-rnnlm-librispeech\", savedir=\"pretrained_models/asr-crdnn-rnnlm-librispeech\")\n",
    "asr_model.transcribe_file('speechbrain/asr-crdnn-rnnlm-librispeech/example.wav')"
   ]
  },
  {
   "cell_type": "code",
   "execution_count": null,
   "id": "293d56dd",
   "metadata": {},
   "outputs": [],
   "source": [
    "signal = read_audio(\"example.wav\").squeeze()\n",
    "Audio(signal, rate=16000)"
   ]
  },
  {
   "cell_type": "code",
   "execution_count": null,
   "id": "07ff6101",
   "metadata": {},
   "outputs": [],
   "source": []
  }
 ],
 "metadata": {
  "kernelspec": {
   "display_name": "Python 3 (ipykernel)",
   "language": "python",
   "name": "python3"
  },
  "language_info": {
   "codemirror_mode": {
    "name": "ipython",
    "version": 3
   },
   "file_extension": ".py",
   "mimetype": "text/x-python",
   "name": "python",
   "nbconvert_exporter": "python",
   "pygments_lexer": "ipython3",
   "version": "3.9.12"
  }
 },
 "nbformat": 4,
 "nbformat_minor": 5
}
